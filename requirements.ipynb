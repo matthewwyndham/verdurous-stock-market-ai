{
  "cells": [
    {
      "cell_type": "code",
      "execution_count": 2,
      "metadata": {
        "pycharm": {
          "is_executing": false
        }
      },
      "outputs": [
        {
          "name": "stdout",
          "text": [
            "Must Haves\n"
          ],
          "output_type": "stream"
        }
      ],
      "source": "##########################################\n############                  ############\n############    MUST HAVES    ############\n############                  ############\n##########################################\n\nprint(\"Must Haves\")\n"
    },
    {
      "cell_type": "code",
      "execution_count": 3,
      "metadata": {
        "collapsed": true,
        "pycharm": {
          "is_executing": false
        }
      },
      "outputs": [],
      "source": "# Read CSV\n# This will read in the CSVs that come from the alpha vantage website, where each CSV\n# is from a separate stock symbol\nimport csv  \n\ndef open_csv(path_to_csv):\n    data \u003d []\n    with open(path_to_csv) as csv_file:\n        csv_reader \u003d csv.reader(csv_file, delimiter\u003d\u0027,\u0027)\n        for row in csv_reader:\n            if row[0] !\u003d \u0027\u0027:\n                data.append(row)\n    return data\n"
    },
    {
      "cell_type": "code",
      "execution_count": 4,
      "metadata": {
        "pycharm": {
          "is_executing": false
        }
      },
      "outputs": [],
      "source": "# Access API\nfrom myapikey import APIkey\nfrom alpha_vantage.timeseries import TimeSeries\n"
    },
    {
      "cell_type": "code",
      "execution_count": 5,
      "outputs": [],
      "source": "# must provide an api key (they are free from the alpha vantage website\n# this determines how much data you can get in how much time.\ndef get_intraday(stock):\n    ts \u003d TimeSeries(key\u003dAPIkey, output_format\u003d\u0027pandas\u0027, indexing_type\u003d\u0027integer\u0027)\n    return ts.get_intraday(symbol\u003dstock, interval\u003d\u00271min\u0027, outputsize\u003d\u0027full\u0027)\n\n# provide an api key to access the data\ndef get_daily(stock):\n    ts \u003d TimeSeries(key\u003dAPIkey, output_format\u003d\u0027pandas\u0027)\n    data, meta_data \u003d ts.get_daily(symbol\u003dstock, outputsize\u003d\u0027full\u0027)\n    return data, meta_data\n",
      "metadata": {
        "pycharm": {
          "metadata": false,
          "name": "#%%\n",
          "is_executing": false
        }
      }
    },
    {
      "cell_type": "code",
      "execution_count": 6,
      "metadata": {
        "pycharm": {
          "is_executing": false
        }
      },
      "outputs": [
        {
          "name": "stdout",
          "text": [
            "130\n"
          ],
          "output_type": "stream"
        }
      ],
      "source": "# Select stocks based on ticker symbol\nstock_names \u003d [\"AAOI\", \"AAP\", \"AAPL\", \"ABMD\", \"ABT\", \"ACET\", \"ADIL\", \"AETI\", \"AFL\", \"AKAM\", \"ALGN\", \"ALQA\", \"AMD\", \n\"AMG\", \"AMRH\", \"AMZN\", \"ANY\", \"APVO\", \"AVGR\", \"AXSM\", \"BAC\", \"BIIB\", \"BLIN\", \"BLK\", \"BLRX\", \"BSQR\", \"BSX\", \"BTAI\", \n\"CGA\", \"CGC\", \"CLIR\", \"CMCSA\", \"CMG\", \"COP\", \"COTY\", \"COUP\", \"CPSH\", \"CSCO\", \"CTK\", \"CTRV\", \"CVX\", \"D\", \"DIS\", \n\"DUK\", \"EXC\", \"EYES\", \"FARO\", \"FB\", \"FCEL\", \"FDS\", \"FLKS\", \"FRAN\", \"FTNT\", \"GE\", \"GM\", \"GNMX\", \"GOOGL\", \"HMC\", \"HOV\", \n\"HSGX\", \"IGLD\", \"INOD\", \"IVZ\", \"JAGX\", \"JNJ\", \"JPM\", \"JT\", \"KEYS\", \"KOSS\", \"LB\", \"LLY\", \"LPTH\", \"M\", \"MDT\", \"MSFT\", \n\"MYSZ\", \"NDAQ\", \"NEE\", \"NFLX\", \"NKE\", \"NRG\", \"NVDA\", \"NVFY\", \"ORLY\", \"OSS\", \"OXBR\", \"PFE\", \"PIR\", \"PRGO\", \"QBAK\", \n\"QUIK\", \"RAD\", \"RBCN\",\"RHT\", \"RL\", \"SBUX\", \"SESN\", \"SFUN\", \"SGMA\", \"SMAR\", \"SO\", \"STZ\", \"SYK\", \"T\", \"TNK\", \"TOPS\", \n\"TRHC\", \"TRIL\", \"TRIP\", \"TRNX\", \"TSLA\", \"TSN\", \"TTWO\", \"TWMC\", \"TWTR\", \"UA\", \"UAA\", \"UPL\", \"USB\", \"UXIN\", \"V\", \n\"VRSN\", \"VTVT\", \"VZ\", \"WDC\", \"WFC\", \"WFT\", \"WMT\", \"XOM\", \"ZTS\"]\n\n# at least one of these is not a real stock recognized by alpha vantage.\n# I must error check these stocks.\nprint(len(stock_names))\n"
    },
    {
      "cell_type": "code",
      "execution_count": 7,
      "outputs": [],
      "source": "# Store Stock information as a data set\nstock_data \u003d batch_get_daily(stock_names)",
      "metadata": {
        "pycharm": {
          "metadata": false,
          "name": "#%%\n",
          "is_executing": false
        }
      }
    },
    {
      "cell_type": "code",
      "execution_count": 15,
      "outputs": [],
      "source": "# print(stock_data[0][0])\nimport pickle\n\nf \u003d open(\u0027store_stocks.pckl\u0027, \u0027wb\u0027)\npickle.dump(stock_data, f)\nf.close()\n",
      "metadata": {
        "pycharm": {
          "metadata": false,
          "name": "#%%\n",
          "is_executing": false
        }
      }
    },
    {
      "cell_type": "code",
      "execution_count": null,
      "outputs": [],
      "source": "f \u003d open(\u0027store_stocks.pckl\u0027, \u0027rb\u0027)\nstock_data \u003d pickle.load(f)\nf.close()",
      "metadata": {
        "pycharm": {
          "metadata": false,
          "name": "#%%\n"
        }
      }
    },
    {
      "cell_type": "code",
      "execution_count": 8,
      "metadata": {
        "pycharm": {
          "is_executing": false
        }
      },
      "outputs": [],
      "source": "# Format dataset with classification (up/down)\ndef add_classification(stocks):\n    # what format of data should this function accept?\n    # should I clean up csv imports vs. direct access data?\n    # for each row, take the final stock price of the lower row\n    #   and compare it with the current day\u0027s final stock\n    #   price. If this row is lower, then \"down\". If this row\n    #   is higher, then \"up\".\n    \n    # column 4 is the end of day price\n    last_price \u003d stocks[len(stocks) - 1][4]\n    for s in reversed(list(range(len(stocks) - 1))):\n        if (stocks[s][4] - last_price) \u003e 0:\n            stocks[s].append(\u0027up\u0027)\n        else:\n            stocks[s].append(\u0027down\u0027)\n        last_price \u003d stocks[s][4]\n    return stocks\n"
    },
    {
      "cell_type": "code",
      "execution_count": 9,
      "metadata": {
        "pycharm": {
          "is_executing": false
        }
      },
      "outputs": [
        {
          "traceback": [
            "\u001b[0;31m---------------------------------------------------------------------------\u001b[0m",
            "\u001b[0;31mNameError\u001b[0m                                 Traceback (most recent call last)",
            "\u001b[0;32m\u003cipython-input-9-31ccf2a220fc\u003e\u001b[0m in \u001b[0;36m\u003cmodule\u003e\u001b[0;34m\u001b[0m\n\u001b[1;32m     16\u001b[0m               metrics\u003d[\u0027accuracy\u0027])\n\u001b[1;32m     17\u001b[0m \u001b[0;34m\u001b[0m\u001b[0m\n\u001b[0;32m---\u003e 18\u001b[0;31m \u001b[0mmodel\u001b[0m\u001b[0;34m.\u001b[0m\u001b[0mfit\u001b[0m\u001b[0;34m(\u001b[0m\u001b[0mx_train\u001b[0m\u001b[0;34m,\u001b[0m \u001b[0my_train\u001b[0m\u001b[0;34m,\u001b[0m \u001b[0mepochs\u001b[0m\u001b[0;34m\u003d\u001b[0m\u001b[0;36m5\u001b[0m\u001b[0;34m)\u001b[0m\u001b[0;34m\u001b[0m\u001b[0;34m\u001b[0m\u001b[0m\n\u001b[0m\u001b[1;32m     19\u001b[0m \u001b[0;34m\u001b[0m\u001b[0m\n",
            "\u001b[0;31mNameError\u001b[0m: name \u0027x_train\u0027 is not defined"
          ],
          "ename": "NameError",
          "evalue": "name \u0027x_train\u0027 is not defined",
          "output_type": "error"
        }
      ],
      "source": "# (3 must-haves in one cell)\n# Train\n# Hidden Nodes\n# Dropout\nimport tensorflow as tf\n\n# example training\nmodel \u003d tf.keras.models.Sequential([\n  tf.keras.layers.Flatten(input_shape\u003d(28, 28)),\n  tf.keras.layers.Dense(512, activation\u003dtf.nn.relu),\n  tf.keras.layers.Dropout(0.2),\n  tf.keras.layers.Dense(10, activation\u003dtf.nn.softmax)\n])\nmodel.compile(optimizer\u003d\u0027adam\u0027,\n              loss\u003d\u0027sparse_categorical_crossentropy\u0027,\n              metrics\u003d[\u0027accuracy\u0027])\n\nmodel.fit(x_train, y_train, epochs\u003d5)\n"
    },
    {
      "cell_type": "code",
      "execution_count": null,
      "metadata": {
        "pycharm": {
          "is_executing": true
        }
      },
      "outputs": [],
      "source": "# Test\nmodel.evaluate(x_test, y_test)\n"
    },
    {
      "cell_type": "code",
      "execution_count": null,
      "metadata": {
        "pycharm": {
          "is_executing": true
        }
      },
      "outputs": [],
      "source": "# Real Life Prediction\n"
    },
    {
      "cell_type": "code",
      "execution_count": null,
      "metadata": {
        "pycharm": {
          "is_executing": true
        }
      },
      "outputs": [],
      "source": "# Print results of prediction\n"
    },
    {
      "cell_type": "code",
      "execution_count": null,
      "metadata": {
        "pycharm": {
          "is_executing": true
        }
      },
      "outputs": [],
      "source": "##########################################\n#######                           ########\n#######    WOULD LIKE TO HAVES    ########\n#######                           ########\n##########################################\n\nprint(\"would like to haves\")\n"
    },
    {
      "cell_type": "code",
      "execution_count": null,
      "metadata": {
        "pycharm": {
          "is_executing": true
        }
      },
      "outputs": [],
      "source": "# Save data as CSV\n\n"
    },
    {
      "cell_type": "code",
      "execution_count": null,
      "metadata": {
        "pycharm": {
          "is_executing": true
        }
      },
      "outputs": [],
      "source": "# Wait for API (free) access limit\nimport time\n\ndef batch_get_daily(stock_list):\n    count \u003d 0\n    data \u003d []\n    for stock in stock_list:\n        if count \u003d\u003d 5:\n            time.sleep(65) # 65 seconds just in case the timing on the server or here isn\u0027t perfect\n            count \u003d 0\n        data.append(get_daily(stock))\n        count +\u003d 1\n    return data\n\n# for 130 stocks this should take at least half an hour\n"
    },
    {
      "cell_type": "code",
      "execution_count": null,
      "metadata": {
        "pycharm": {
          "is_executing": true
        }
      },
      "outputs": [],
      "source": "# Save results of Training\n# https://www.tensorflow.org/guide/keras#entire_model\nmodel.save_weights(\u0027verdurouMKI.h5\u0027)\n"
    },
    {
      "cell_type": "code",
      "execution_count": null,
      "metadata": {
        "pycharm": {
          "is_executing": true
        }
      },
      "outputs": [],
      "source": "# Load Results from Previous Training\nmodel \u003d tf.keras.models.load_model(\u0027verdurouMKI.h5\u0027)\n"
    },
    {
      "cell_type": "code",
      "execution_count": 22,
      "metadata": {
        "pycharm": {
          "is_executing": false
        }
      },
      "outputs": [],
      "source": "# Scrape HTML\n"
    },
    {
      "cell_type": "code",
      "execution_count": null,
      "outputs": [],
      "source": "\n",
      "metadata": {
        "pycharm": {
          "metadata": false,
          "name": "#%%\n"
        }
      }
    }
  ],
  "metadata": {
    "kernelspec": {
      "name": "python3",
      "language": "python",
      "display_name": "Python 3"
    },
    "language_info": {
      "codemirror_mode": {
        "name": "ipython",
        "version": 2
      },
      "file_extension": ".py",
      "mimetype": "text/x-python",
      "name": "python",
      "nbconvert_exporter": "python",
      "pygments_lexer": "ipython2",
      "version": "2.7.6"
    },
    "stem_cell": {
      "cell_type": "raw",
      "source": "",
      "metadata": {
        "pycharm": {
          "metadata": false
        }
      }
    }
  },
  "nbformat": 4,
  "nbformat_minor": 0
}