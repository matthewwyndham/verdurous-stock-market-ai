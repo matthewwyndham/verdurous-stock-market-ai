{
  "cells": [
    {
      "cell_type": "code",
      "execution_count": 33,
      "metadata": {
        "pycharm": {
          "is_executing": false
        }
      },
      "outputs": [
        {
          "name": "stdout",
          "text": [
            "Must Haves\n"
          ],
          "output_type": "stream"
        }
      ],
      "source": "##########################################\n############                  ############\n############    MUST HAVES    ############\n############                  ############\n##########################################\n\nprint(\"Must Haves\")\n"
    },
    {
      "cell_type": "code",
      "execution_count": 2,
      "metadata": {
        "collapsed": true,
        "pycharm": {
          "is_executing": false
        }
      },
      "outputs": [],
      "source": "# Read CSV\n# This will read in the CSVs that come from the alpha vantage website, where each CSV\n# is from a separate stock symbol\nimport csv  \n\ndef open_csv(path_to_csv):\n    data \u003d []\n    with open(path_to_csv) as csv_file:\n        csv_reader \u003d csv.reader(csv_file, delimiter\u003d\u0027,\u0027)\n        for row in csv_reader:\n            if row[0] !\u003d \u0027\u0027:\n                data.append(row)\n    return data\n"
    },
    {
      "cell_type": "code",
      "execution_count": 4,
      "metadata": {
        "pycharm": {
          "is_executing": false
        }
      },
      "outputs": [],
      "source": "# Access API\nfrom myapikey import APIkey\nfrom alpha_vantage.timeseries import TimeSeries\n"
    },
    {
      "cell_type": "code",
      "execution_count": null,
      "outputs": [],
      "source": "# must provide an api key (they are free from the alpha vantage website\n# this determines how much data you can get in how much time.\ndef get_intraday(stock):\n    ts \u003d TimeSeries(key\u003dAPIkey, output_format\u003d\u0027pandas\u0027, indexing_type\u003d\u0027integer\u0027)\n    return ts.get_intraday(symbol\u003dstock, interval\u003d\u00271min\u0027, outputsize\u003d\u0027full\u0027)\n\n# provide an api key to access the data\ndef get_daily(stock):\n    ts \u003d TimeSeries(key\u003dAPIkey, output_format\u003d\u0027pandas\u0027)\n    data, meta_data \u003d ts.get_daily(symbol\u003dstock, outputsize\u003d\u0027full\u0027)\n    return data, meta_data\n",
      "metadata": {
        "pycharm": {
          "metadata": false,
          "name": "#%%\n"
        }
      }
    },
    {
      "cell_type": "code",
      "execution_count": 7,
      "metadata": {
        "pycharm": {
          "is_executing": false
        }
      },
      "outputs": [
        {
          "name": "stdout",
          "text": [
            "134\n"
          ],
          "output_type": "stream"
        }
      ],
      "source": "# Select stocks based on ticker symbol\nstock_names \u003d [\"AAOI\", \"AAP\", \"AAPL\", \"ABMD\", \"ABT\", \"ACET\", \"ADIL\", \"AETI\", \"AFL\", \"AKAM\", \"ALGN\",\n               \"ALQA\", \"AMD\", \"AMG\", \"AMRH\", \"AMZN\", \"ANY\", \"APVO\", \"AVGR\", \"AXSM\", \"BAC\", \"BIIB\", \n               \"BLIN\", \"BLK\", \"BLRX\", \"BSQR\", \"BSX\", \"BTAI\", \"CGA\", \"CGC\", \"CLIR\", \"CMCSA\", \"CMG\", \n               \"COP\", \"COUP\", \"COTY\", \"CPHI\", \"CPSH\", \"CSCO\", \"CTK\", \"CTRV\", \"CVX\", \"D\", \"DIS\", \"DUK\", \n               \"EXC\", \"EXEC\", \"EYES\", \"FARO\", \"FB\", \"FCEL\", \"FDS\", \"FLKS\", \"FTNT\", \"FRAN\", \"GE\", \"GNMX\", \n               \"GOOGL\", \"GSAT\", \"HOV\", \"HSGX\", \"IGLD\", \"INOD\", \"IVZ\", \"JAGX\", \"JNJ\", \"JPM\", \"JT\", \"KEYS\", \n               \"KOSS\", \"LB\", \"LLY\", \"LPTH\", \"M\", \"MDT\", \"MHKT\", \"MSFT\", \"MYSZ\", \"NDAQ\", \"NEE\", \"NFLX\", \"NFX\", \n               \"NKE\", \"NRG\", \"NVDA\", \"NVFY\", \"OSS\", \"OXBR\", \"ORLY\", \"PFE\", \"PIR\", \"PRGO\", \"QBAK\", \"QUIK\", \n               \"RAD\", \"RBCN\", \"RHT\", \"RL\", \"SBUX\", \"SESN\", \"SFUN\", \"SGMA\", \"SMAR\", \"SO\", \"STZ\", \"SYK\", \n               \"T\", \"TNK\", \"TOPS\", \"TRHC\", \"TRIL\", \"TRIP\", \"TRNX\", \"TSLA\", \"TSN\", \"TWMC\", \"TWTR\", \"UA\", \"UAA\", \n               \"UPL\", \"USB\", \"UXIN\", \"V\", \"VGZ\", \"VRSN\", \"VTVT\", \"VZ\", \"WDC\", \"WFC\", \"WFT\", \"WMT\", \"XL\", \"XOM\", \"ZTS\"]\n\nprint(len(stock_names))\n"
    },
    {
      "cell_type": "code",
      "execution_count": 11,
      "outputs": [
        {
          "traceback": [
            "\u001b[0;31m---------------------------------------------------------------------------\u001b[0m",
            "\u001b[0;31mValueError\u001b[0m                                Traceback (most recent call last)",
            "\u001b[0;32m\u003cipython-input-11-1f5ba248a69e\u003e\u001b[0m in \u001b[0;36m\u003cmodule\u003e\u001b[0;34m\u001b[0m\n\u001b[1;32m      1\u001b[0m \u001b[0;31m# Store Stock information as a data set\u001b[0m\u001b[0;34m\u001b[0m\u001b[0;34m\u001b[0m\u001b[0;34m\u001b[0m\u001b[0m\n\u001b[0;32m----\u003e 2\u001b[0;31m \u001b[0mstock_data\u001b[0m \u001b[0;34m\u003d\u001b[0m \u001b[0mbatch_get_daily\u001b[0m\u001b[0;34m(\u001b[0m\u001b[0mstock_names\u001b[0m\u001b[0;34m)\u001b[0m\u001b[0;34m\u001b[0m\u001b[0;34m\u001b[0m\u001b[0m\n\u001b[0m\u001b[1;32m      3\u001b[0m \u001b[0;34m\u001b[0m\u001b[0m\n",
            "\u001b[0;32m\u003cipython-input-8-908e5d919284\u003e\u001b[0m in \u001b[0;36mbatch_get_daily\u001b[0;34m(stock_list)\u001b[0m\n\u001b[1;32m      9\u001b[0m             \u001b[0mtime\u001b[0m\u001b[0;34m.\u001b[0m\u001b[0msleep\u001b[0m\u001b[0;34m(\u001b[0m\u001b[0;36m65\u001b[0m\u001b[0;34m)\u001b[0m \u001b[0;31m# 65 seconds just in case the timing on the server or here isn\u0027t perfect\u001b[0m\u001b[0;34m\u001b[0m\u001b[0;34m\u001b[0m\u001b[0m\n\u001b[1;32m     10\u001b[0m             \u001b[0mcount\u001b[0m \u001b[0;34m\u003d\u001b[0m \u001b[0;36m0\u001b[0m\u001b[0;34m\u001b[0m\u001b[0;34m\u001b[0m\u001b[0m\n\u001b[0;32m---\u003e 11\u001b[0;31m         \u001b[0mdata\u001b[0m\u001b[0;34m.\u001b[0m\u001b[0mappend\u001b[0m\u001b[0;34m(\u001b[0m\u001b[0mget_daily\u001b[0m\u001b[0;34m(\u001b[0m\u001b[0mstock\u001b[0m\u001b[0;34m)\u001b[0m\u001b[0;34m)\u001b[0m\u001b[0;34m\u001b[0m\u001b[0;34m\u001b[0m\u001b[0m\n\u001b[0m\u001b[1;32m     12\u001b[0m         \u001b[0mcount\u001b[0m \u001b[0;34m+\u003d\u001b[0m \u001b[0;36m1\u001b[0m\u001b[0;34m\u001b[0m\u001b[0;34m\u001b[0m\u001b[0m\n\u001b[1;32m     13\u001b[0m     \u001b[0;32mreturn\u001b[0m \u001b[0mdata\u001b[0m\u001b[0;34m\u001b[0m\u001b[0;34m\u001b[0m\u001b[0m\n",
            "\u001b[0;32m\u003cipython-input-4-c5eea1e7474b\u003e\u001b[0m in \u001b[0;36mget_daily\u001b[0;34m(stock)\u001b[0m\n\u001b[1;32m      8\u001b[0m \u001b[0;32mdef\u001b[0m \u001b[0mget_daily\u001b[0m\u001b[0;34m(\u001b[0m\u001b[0mstock\u001b[0m\u001b[0;34m)\u001b[0m\u001b[0;34m:\u001b[0m\u001b[0;34m\u001b[0m\u001b[0;34m\u001b[0m\u001b[0m\n\u001b[1;32m      9\u001b[0m     \u001b[0mts\u001b[0m \u001b[0;34m\u003d\u001b[0m \u001b[0mTimeSeries\u001b[0m\u001b[0;34m(\u001b[0m\u001b[0mkey\u001b[0m\u001b[0;34m\u003d\u001b[0m\u001b[0mAPIkey\u001b[0m\u001b[0;34m,\u001b[0m \u001b[0moutput_format\u001b[0m\u001b[0;34m\u003d\u001b[0m\u001b[0;34m\u0027pandas\u0027\u001b[0m\u001b[0;34m)\u001b[0m\u001b[0;34m\u001b[0m\u001b[0;34m\u001b[0m\u001b[0m\n\u001b[0;32m---\u003e 10\u001b[0;31m     \u001b[0mdata\u001b[0m\u001b[0;34m,\u001b[0m \u001b[0mmeta_data\u001b[0m \u001b[0;34m\u003d\u001b[0m \u001b[0mts\u001b[0m\u001b[0;34m.\u001b[0m\u001b[0mget_daily\u001b[0m\u001b[0;34m(\u001b[0m\u001b[0msymbol\u001b[0m\u001b[0;34m\u003d\u001b[0m\u001b[0mstock\u001b[0m\u001b[0;34m,\u001b[0m \u001b[0moutputsize\u001b[0m\u001b[0;34m\u003d\u001b[0m\u001b[0;34m\u0027full\u0027\u001b[0m\u001b[0;34m)\u001b[0m\u001b[0;34m\u001b[0m\u001b[0;34m\u001b[0m\u001b[0m\n\u001b[0m\u001b[1;32m     11\u001b[0m     \u001b[0;32mreturn\u001b[0m \u001b[0mdata\u001b[0m\u001b[0;34m,\u001b[0m \u001b[0mmeta_data\u001b[0m\u001b[0;34m\u001b[0m\u001b[0;34m\u001b[0m\u001b[0m\n\u001b[1;32m     12\u001b[0m \u001b[0;34m\u001b[0m\u001b[0m\n",
            "\u001b[0;32m/usr/local/lib/python3.6/dist-packages/alpha_vantage/alphavantage.py\u001b[0m in \u001b[0;36m_format_wrapper\u001b[0;34m(self, *args, **kwargs)\u001b[0m\n\u001b[1;32m    173\u001b[0m         \u001b[0;32mdef\u001b[0m \u001b[0m_format_wrapper\u001b[0m\u001b[0;34m(\u001b[0m\u001b[0mself\u001b[0m\u001b[0;34m,\u001b[0m \u001b[0;34m*\u001b[0m\u001b[0margs\u001b[0m\u001b[0;34m,\u001b[0m \u001b[0;34m**\u001b[0m\u001b[0mkwargs\u001b[0m\u001b[0;34m)\u001b[0m\u001b[0;34m:\u001b[0m\u001b[0;34m\u001b[0m\u001b[0;34m\u001b[0m\u001b[0m\n\u001b[1;32m    174\u001b[0m             call_response, data_key, meta_data_key \u003d func(\n\u001b[0;32m--\u003e 175\u001b[0;31m                 self, *args, **kwargs)\n\u001b[0m\u001b[1;32m    176\u001b[0m             \u001b[0;32mif\u001b[0m \u001b[0;34m\u0027json\u0027\u001b[0m \u001b[0;32min\u001b[0m \u001b[0mself\u001b[0m\u001b[0;34m.\u001b[0m\u001b[0moutput_format\u001b[0m\u001b[0;34m.\u001b[0m\u001b[0mlower\u001b[0m\u001b[0;34m(\u001b[0m\u001b[0;34m)\u001b[0m \u001b[0;32mor\u001b[0m \u001b[0;34m\u0027pandas\u0027\u001b[0m\u001b[0;31m \u001b[0m\u001b[0;31m\\\u001b[0m\u001b[0;34m\u001b[0m\u001b[0;34m\u001b[0m\u001b[0m\n\u001b[1;32m    177\u001b[0m                     \u001b[0;32min\u001b[0m \u001b[0mself\u001b[0m\u001b[0;34m.\u001b[0m\u001b[0moutput_format\u001b[0m\u001b[0;34m.\u001b[0m\u001b[0mlower\u001b[0m\u001b[0;34m(\u001b[0m\u001b[0;34m)\u001b[0m\u001b[0;34m:\u001b[0m\u001b[0;34m\u001b[0m\u001b[0;34m\u001b[0m\u001b[0m\n",
            "\u001b[0;32m/usr/local/lib/python3.6/dist-packages/alpha_vantage/alphavantage.py\u001b[0m in \u001b[0;36m_call_wrapper\u001b[0;34m(self, *args, **kwargs)\u001b[0m\n\u001b[1;32m    158\u001b[0m             \u001b[0;32melse\u001b[0m\u001b[0;34m:\u001b[0m\u001b[0;34m\u001b[0m\u001b[0;34m\u001b[0m\u001b[0m\n\u001b[1;32m    159\u001b[0m                 \u001b[0murl\u001b[0m \u001b[0;34m\u003d\u001b[0m \u001b[0;34m\u0027{}\u0026apikey\u003d{}\u0027\u001b[0m\u001b[0;34m.\u001b[0m\u001b[0mformat\u001b[0m\u001b[0;34m(\u001b[0m\u001b[0murl\u001b[0m\u001b[0;34m,\u001b[0m \u001b[0mself\u001b[0m\u001b[0;34m.\u001b[0m\u001b[0mkey\u001b[0m\u001b[0;34m)\u001b[0m\u001b[0;34m\u001b[0m\u001b[0;34m\u001b[0m\u001b[0m\n\u001b[0;32m--\u003e 160\u001b[0;31m             \u001b[0;32mreturn\u001b[0m \u001b[0mself\u001b[0m\u001b[0;34m.\u001b[0m\u001b[0m_handle_api_call\u001b[0m\u001b[0;34m(\u001b[0m\u001b[0murl\u001b[0m\u001b[0;34m)\u001b[0m\u001b[0;34m,\u001b[0m \u001b[0mdata_key\u001b[0m\u001b[0;34m,\u001b[0m \u001b[0mmeta_data_key\u001b[0m\u001b[0;34m\u001b[0m\u001b[0;34m\u001b[0m\u001b[0m\n\u001b[0m\u001b[1;32m    161\u001b[0m         \u001b[0;32mreturn\u001b[0m \u001b[0m_call_wrapper\u001b[0m\u001b[0;34m\u001b[0m\u001b[0;34m\u001b[0m\u001b[0m\n\u001b[1;32m    162\u001b[0m \u001b[0;34m\u001b[0m\u001b[0m\n",
            "\u001b[0;32m/usr/local/lib/python3.6/dist-packages/alpha_vantage/alphavantage.py\u001b[0m in \u001b[0;36m_retry_wrapper\u001b[0;34m(self, *args, **kwargs)\u001b[0m\n\u001b[1;32m     77\u001b[0m                 \u001b[0;32mexcept\u001b[0m \u001b[0mValueError\u001b[0m \u001b[0;32mas\u001b[0m \u001b[0merr\u001b[0m\u001b[0;34m:\u001b[0m\u001b[0;34m\u001b[0m\u001b[0;34m\u001b[0m\u001b[0m\n\u001b[1;32m     78\u001b[0m                     \u001b[0merror_message\u001b[0m \u001b[0;34m\u003d\u001b[0m \u001b[0mstr\u001b[0m\u001b[0;34m(\u001b[0m\u001b[0merr\u001b[0m\u001b[0;34m)\u001b[0m\u001b[0;34m\u001b[0m\u001b[0;34m\u001b[0m\u001b[0m\n\u001b[0;32m---\u003e 79\u001b[0;31m             \u001b[0;32mraise\u001b[0m \u001b[0mValueError\u001b[0m\u001b[0;34m(\u001b[0m\u001b[0mstr\u001b[0m\u001b[0;34m(\u001b[0m\u001b[0merror_message\u001b[0m\u001b[0;34m)\u001b[0m\u001b[0;34m)\u001b[0m\u001b[0;34m\u001b[0m\u001b[0;34m\u001b[0m\u001b[0m\n\u001b[0m\u001b[1;32m     80\u001b[0m         \u001b[0;32mreturn\u001b[0m \u001b[0m_retry_wrapper\u001b[0m\u001b[0;34m\u001b[0m\u001b[0;34m\u001b[0m\u001b[0m\n\u001b[1;32m     81\u001b[0m \u001b[0;34m\u001b[0m\u001b[0m\n",
            "\u001b[0;31mValueError\u001b[0m: Invalid API call. Please retry or visit the documentation (https://www.alphavantage.co/documentation/) for TIME_SERIES_DAILY."
          ],
          "ename": "ValueError",
          "evalue": "Invalid API call. Please retry or visit the documentation (https://www.alphavantage.co/documentation/) for TIME_SERIES_DAILY.",
          "output_type": "error"
        }
      ],
      "source": "# Store Stock information as a data set\nstock_data \u003d batch_get_daily(stock_names)\n",
      "metadata": {
        "pycharm": {
          "metadata": false,
          "name": "#%%\n",
          "is_executing": false
        }
      }
    },
    {
      "cell_type": "code",
      "execution_count": 14,
      "metadata": {
        "pycharm": {
          "is_executing": false
        }
      },
      "outputs": [],
      "source": "# Format dataset with classification (up/down)\ndef add_classification(stocks):\n    # what format of data should this function accept?\n    # should I clean up csv imports vs. direct access data?\n    # for each row, take the final stock price of the lower row\n    #   and compare it with the current day\u0027s final stock\n    #   price. If this row is lower, then \"down\". If this row\n    #   is higher, then \"up\".\n    pass\n"
    },
    {
      "cell_type": "code",
      "execution_count": 10,
      "metadata": {
        "pycharm": {
          "is_executing": false
        }
      },
      "outputs": [
        {
          "traceback": [
            "\u001b[0;31m---------------------------------------------------------------------------\u001b[0m",
            "\u001b[0;31mAttributeError\u001b[0m                            Traceback (most recent call last)",
            "\u001b[0;32m\u003cipython-input-10-619a87790214\u003e\u001b[0m in \u001b[0;36m\u003cmodule\u003e\u001b[0;34m\u001b[0m\n\u001b[1;32m      1\u001b[0m \u001b[0;31m# Train\u001b[0m\u001b[0;34m\u001b[0m\u001b[0;34m\u001b[0m\u001b[0;34m\u001b[0m\u001b[0m\n\u001b[1;32m      2\u001b[0m \u001b[0;32mimport\u001b[0m \u001b[0mtensorflow\u001b[0m \u001b[0;32mas\u001b[0m \u001b[0mtf\u001b[0m\u001b[0;34m\u001b[0m\u001b[0;34m\u001b[0m\u001b[0m\n\u001b[0;32m----\u003e 3\u001b[0;31m \u001b[0mmodel\u001b[0m \u001b[0;34m\u003d\u001b[0m \u001b[0mtf\u001b[0m\u001b[0;34m.\u001b[0m\u001b[0mkeras\u001b[0m\u001b[0;34m.\u001b[0m\u001b[0msequential\u001b[0m\u001b[0;34m(\u001b[0m\u001b[0;34m)\u001b[0m\u001b[0;34m\u001b[0m\u001b[0;34m\u001b[0m\u001b[0m\n\u001b[0m\u001b[1;32m      4\u001b[0m \u001b[0;34m\u001b[0m\u001b[0m\n",
            "\u001b[0;31mAttributeError\u001b[0m: module \u0027tensorflow._api.v1.keras\u0027 has no attribute \u0027sequential\u0027"
          ],
          "ename": "AttributeError",
          "evalue": "module \u0027tensorflow._api.v1.keras\u0027 has no attribute \u0027sequential\u0027",
          "output_type": "error"
        }
      ],
      "source": "# Train\nimport tensorflow as tf\nmodel \u003d tf.keras.Sequential()\n"
    },
    {
      "cell_type": "code",
      "execution_count": 16,
      "metadata": {
        "pycharm": {
          "is_executing": false
        }
      },
      "outputs": [],
      "source": "# Hidden Nodes\n"
    },
    {
      "cell_type": "code",
      "execution_count": 17,
      "metadata": {
        "pycharm": {
          "is_executing": false
        }
      },
      "outputs": [],
      "source": "# Dropout\n"
    },
    {
      "cell_type": "code",
      "execution_count": 18,
      "metadata": {
        "pycharm": {
          "is_executing": false
        }
      },
      "outputs": [],
      "source": "# Test\n"
    },
    {
      "cell_type": "code",
      "execution_count": 19,
      "metadata": {
        "pycharm": {
          "is_executing": false
        }
      },
      "outputs": [],
      "source": "# Real Life Prediction\n"
    },
    {
      "cell_type": "code",
      "execution_count": 20,
      "metadata": {
        "pycharm": {
          "is_executing": false
        }
      },
      "outputs": [],
      "source": "# Print results of prediction\n"
    },
    {
      "cell_type": "code",
      "execution_count": 31,
      "metadata": {
        "pycharm": {
          "is_executing": false
        }
      },
      "outputs": [
        {
          "name": "stdout",
          "text": [
            "would like to haves\n"
          ],
          "output_type": "stream"
        }
      ],
      "source": "##########################################\n#######                           ########\n#######    WOULD LIKE TO HAVES    ########\n#######                           ########\n##########################################\n\nprint(\"would like to haves\")\n"
    },
    {
      "cell_type": "code",
      "execution_count": 22,
      "metadata": {
        "pycharm": {
          "is_executing": false
        }
      },
      "outputs": [],
      "source": "# Save data as CSV\n"
    },
    {
      "cell_type": "code",
      "execution_count": 8,
      "metadata": {
        "pycharm": {
          "is_executing": false
        }
      },
      "outputs": [],
      "source": "# Wait for API (free) access limit\nimport time\n\ndef batch_get_daily(stock_list):\n    count \u003d 0\n    data \u003d []\n    for stock in stock_list:\n        if count \u003d\u003d 5:\n            time.sleep(65) # 65 seconds just in case the timing on the server or here isn\u0027t perfect\n            count \u003d 0\n        data.append(get_daily(stock))\n        count +\u003d 1\n    return data\n\n# for 134 stocks this should take at least half an hour\n"
    },
    {
      "cell_type": "code",
      "execution_count": null,
      "metadata": {
        "pycharm": {
          "is_executing": true
        }
      },
      "outputs": [],
      "source": "# Save results of Training\n# https://www.tensorflow.org/guide/keras#entire_model\nmodel.save(\u0027verdurouMKI.h5\u0027)\n"
    },
    {
      "cell_type": "code",
      "execution_count": 25,
      "metadata": {
        "pycharm": {
          "is_executing": false
        }
      },
      "outputs": [],
      "source": "# Load Results from Previous Training\nmodel \u003d tf.keras.models.load_model(\u0027verdurouMKI.h5\u0027)\n"
    },
    {
      "cell_type": "code",
      "execution_count": 26,
      "metadata": {
        "pycharm": {
          "is_executing": false
        }
      },
      "outputs": [],
      "source": "# Scrape HTML\n\n"
    }
  ],
  "metadata": {
    "kernelspec": {
      "name": "python3",
      "language": "python",
      "display_name": "Python 3"
    },
    "language_info": {
      "codemirror_mode": {
        "name": "ipython",
        "version": 2
      },
      "file_extension": ".py",
      "mimetype": "text/x-python",
      "name": "python",
      "nbconvert_exporter": "python",
      "pygments_lexer": "ipython2",
      "version": "2.7.6"
    },
    "stem_cell": {
      "cell_type": "raw",
      "source": "",
      "metadata": {
        "pycharm": {
          "metadata": false
        }
      }
    }
  },
  "nbformat": 4,
  "nbformat_minor": 0
}