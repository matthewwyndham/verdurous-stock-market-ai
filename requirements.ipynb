{
  "cells": [
    {
      "cell_type": "code",
      "execution_count": 32,
      "outputs": [],
      "source": "# Other imports\nfrom myapikey import APIkey\n",
      "metadata": {
        "pycharm": {
          "metadata": false,
          "name": "#%%\n",
          "is_executing": false
        }
      }
    },
    {
      "cell_type": "code",
      "execution_count": 33,
      "metadata": {
        "pycharm": {
          "is_executing": false
        }
      },
      "outputs": [
        {
          "name": "stdout",
          "text": [
            "Must Haves\n"
          ],
          "output_type": "stream"
        }
      ],
      "source": "##########################################\n############                  ############\n############    MUST HAVES    ############\n############                  ############\n##########################################\n\nprint(\"Must Haves\")\n"
    },
    {
      "cell_type": "code",
      "execution_count": 34,
      "metadata": {
        "collapsed": true,
        "pycharm": {
          "is_executing": false
        }
      },
      "outputs": [],
      "source": "# Read CSV\nimport csv  \ndef open_csv(path_to_csv):\n    data \u003d []\n    with open(path_to_csv) as csv_file:\n        csv_reader \u003d csv.reader(csv_file, delimiter\u003d\u0027,\u0027)\n        for row in csv_reader:\n            if row[0] !\u003d \u0027\u0027:\n                data.append(row)\n    return data\n"
    },
    {
      "cell_type": "code",
      "execution_count": 11,
      "metadata": {
        "pycharm": {
          "is_executing": false
        }
      },
      "outputs": [],
      "source": "# Access API\nfrom alpha_vantage.timeseries import TimeSeries\n\nts \u003d TimeSeries(key\u003dAPIkey, output_format\u003d\u0027pandas\u0027, indexing_type\u003d\u0027integer\u0027)\ndata, meta_data \u003d ts.get_intraday(symbol\u003d\u0027MSFT\u0027, interval\u003d\u00271min\u0027, outputsize\u003d\u0027full\u0027)\nprint(data)\n"
    },
    {
      "cell_type": "code",
      "execution_count": 12,
      "metadata": {
        "pycharm": {
          "is_executing": false
        }
      },
      "outputs": [],
      "source": "# Select stocks based on ticker symbol\nstock_names \u003d [\"AAPL\", \"ABT\", \"AFL\", \"AKAM\", \"AMZN\",\"BAC\", \"BIIB\", \"BLK\", \"CGC\", \"CMCSA\", \"COP\",\n               \"CSCO\", \"CVX\", \"D\", \"DIS\", \"DUK\", \"EXC\", \"FB\", \"FDS\", \"GOOGL\", \"JNJ\", \"JPM\", \"LLY\",\n               \"MDT\", \"MSFT\", \"NDAQ\", \"NEE\", \"NFLX\",  \"NKE\", \"NRG\", \"NVDA\", \"PFE\", \"RL\", \"SBUX\",\n               \"SO\", \"STZ\", \"SYK\", \"T\", \"TSLA\", \"TSN\", \"TWTR\", \"UAA\", \"USB\", \"V\",  \"VRSN\", \"VZ\",\n               \"WFC\", \"WMT\", \"XOM\", \"ZTS\", \"VTVT\", \"AXSM\", \"ALQA\", \"ADIL\", \"BTAI\", \"EYES\", \"CLIR\",\n               \"OXBR\", \"CGA\", \"FRAN\",  \"VGZ\", \"QUIK\", \"AETI\", \"NVFY\", \"TOPS\", \"CTRV\", \"TWMC\", \"CPHI\",\n               \"FCEL\", \"IGLD\", \"AVGR\", \"BLRX\", \"HSGX\", \"UPL\", \"APVO\", \"FLKS\",  \"SESN\", \"MYSZ\", \"BLIN\",\n               \"ACET\", \"AMRH\", \"FCEL\", \"TRNX\", \"WFT\", \"HOV\", \"TOPS\", \"RAD\", \"JAGX\", \"TRIL\", \"GSAT\",\n               \"GNMX\", \"TNK\",  \"PIR\", \"CTK\", \"QBAK\", \"CPSH\", \"SGMA\", \"INOD\", \"RBCN\", \"KOSS\", \"LPTH\",\n               \"QUIK\", \"AAOI\", \"ANY\", \"TRHC\", \"BSQR\", \"SMAR\", \"UXIN\", \"COUP\", \"JT\",  \"OSS\", \"SFUN\",\n               \"FARO\", \"XL\", \"UA\", \"UAA\", \"ALGN\", \"CMG\", \"M\", \"AMD\", \"TRIP\"\n]"
    },
    {
      "cell_type": "code",
      "execution_count": 13,
      "metadata": {
        "pycharm": {
          "is_executing": false
        }
      },
      "outputs": [],
      "source": "# Store Stock information as a data set"
    },
    {
      "cell_type": "code",
      "execution_count": 14,
      "metadata": {
        "pycharm": {
          "is_executing": false
        }
      },
      "outputs": [],
      "source": "# Format dataset with classification (up/down)"
    },
    {
      "cell_type": "code",
      "execution_count": 15,
      "metadata": {
        "pycharm": {
          "is_executing": false
        }
      },
      "outputs": [],
      "source": "# Train"
    },
    {
      "cell_type": "code",
      "execution_count": 16,
      "metadata": {
        "pycharm": {
          "is_executing": false
        }
      },
      "outputs": [],
      "source": "# Hidden Nodes"
    },
    {
      "cell_type": "code",
      "execution_count": 17,
      "metadata": {
        "pycharm": {
          "is_executing": false
        }
      },
      "outputs": [],
      "source": "# Dropout"
    },
    {
      "cell_type": "code",
      "execution_count": 18,
      "metadata": {
        "pycharm": {
          "is_executing": false
        }
      },
      "outputs": [],
      "source": "# Test"
    },
    {
      "cell_type": "code",
      "execution_count": 19,
      "metadata": {
        "pycharm": {
          "is_executing": false
        }
      },
      "outputs": [],
      "source": "# Real Life Prediction"
    },
    {
      "cell_type": "code",
      "execution_count": 20,
      "metadata": {
        "pycharm": {
          "is_executing": false
        }
      },
      "outputs": [],
      "source": "# Print results of prediction"
    },
    {
      "cell_type": "code",
      "execution_count": 31,
      "metadata": {
        "pycharm": {
          "is_executing": false
        }
      },
      "outputs": [
        {
          "name": "stdout",
          "text": [
            "would like to haves\n"
          ],
          "output_type": "stream"
        }
      ],
      "source": "##########################################\n#######                           ########\n#######    WOULD LIKE TO HAVES    ########\n#######                           ########\n##########################################\n\nprint(\"would like to haves\")\n"
    },
    {
      "cell_type": "code",
      "execution_count": 22,
      "metadata": {
        "pycharm": {
          "is_executing": false
        }
      },
      "outputs": [],
      "source": "# Save as CSV"
    },
    {
      "cell_type": "code",
      "execution_count": null,
      "metadata": {
        "pycharm": {
          "is_executing": true
        }
      },
      "outputs": [],
      "source": "# Wait for API (free) access limit"
    },
    {
      "cell_type": "code",
      "execution_count": null,
      "metadata": {
        "pycharm": {
          "is_executing": true
        }
      },
      "outputs": [],
      "source": "# Save results of Training"
    },
    {
      "cell_type": "code",
      "execution_count": 25,
      "metadata": {
        "pycharm": {
          "is_executing": false
        }
      },
      "outputs": [],
      "source": "# Load Results from Previous Training"
    },
    {
      "cell_type": "code",
      "execution_count": 26,
      "metadata": {
        "pycharm": {
          "is_executing": false
        }
      },
      "outputs": [],
      "source": "# Scrape HTML\n"
    }
  ],
  "metadata": {
    "kernelspec": {
      "name": "python3",
      "language": "python",
      "display_name": "Python 3"
    },
    "language_info": {
      "codemirror_mode": {
        "name": "ipython",
        "version": 2
      },
      "file_extension": ".py",
      "mimetype": "text/x-python",
      "name": "python",
      "nbconvert_exporter": "python",
      "pygments_lexer": "ipython2",
      "version": "2.7.6"
    },
    "stem_cell": {
      "cell_type": "raw",
      "source": "",
      "metadata": {
        "pycharm": {
          "metadata": false
        }
      }
    }
  },
  "nbformat": 4,
  "nbformat_minor": 0
}