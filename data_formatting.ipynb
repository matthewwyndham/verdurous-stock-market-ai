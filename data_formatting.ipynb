{
 "cells": [
  {
   "cell_type": "code",
   "execution_count": 22,
   "metadata": {
    "collapsed": true
   },
   "outputs": [],
   "source": [
    "from numpy import *\n",
    "import pandas as pd\n",
    "import time\n",
    "from myapikey import APIkey\n",
    "from alpha_vantage.timeseries import TimeSeries\n",
    "import csv\n",
    "# for jupyter notebook this is nice\n",
    "%matplotlib inline\n",
    "# I use a dark theme so I set it to white.\n",
    "import matplotlib.pyplot as plt\n",
    "COLOR = 'white'\n",
    "plt.rcParams['text.color'] = COLOR\n",
    "plt.rcParams['axes.labelcolor'] = COLOR\n",
    "plt.rcParams['xtick.color'] = COLOR\n",
    "plt.rcParams['ytick.color'] = COLOR\n",
    "\n",
    "from alpha_vantage.timeseries import TimeSeries\n"
   ]
  },
  {
   "cell_type": "code",
   "execution_count": 23,
   "metadata": {},
   "outputs": [],
   "source": [
    "stock_names = [\"AAPL\", \"ABT\", \"AFL\", \"AKAM\", \"AMZN\",\"BAC\", \"BIIB\", \"BLK\", \"CGC\", \"CMCSA\", \"COP\",\n",
    "               \"CSCO\", \"CVX\", \"D\", \"DIS\", \"DUK\", \"EXC\", \"FB\", \"FDS\", \"GOOGL\", \"JNJ\", \"JPM\", \"LLY\",\n",
    "               \"MDT\", \"MSFT\", \"NDAQ\", \"NEE\", \"NFLX\",  \"NKE\", \"NRG\", \"NVDA\", \"PFE\", \"RL\", \"SBUX\",\n",
    "               \"SO\", \"STZ\", \"SYK\", \"T\", \"TSLA\", \"TSN\", \"TWTR\", \"UAA\", \"USB\", \"V\",  \"VRSN\", \"VZ\",\n",
    "               \"WFC\", \"WMT\", \"XOM\", \"ZTS\", \"VTVT\", \"AXSM\", \"ALQA\", \"ADIL\", \"BTAI\", \"EYES\", \"CLIR\",\n",
    "               \"OXBR\", \"CGA\", \"FRAN\",  \"VGZ\", \"QUIK\", \"AETI\", \"NVFY\", \"TOPS\", \"CTRV\", \"TWMC\", \"CPHI\",\n",
    "               \"FCEL\", \"IGLD\", \"AVGR\", \"BLRX\", \"HSGX\", \"UPL\", \"APVO\", \"FLKS\",  \"SESN\", \"MYSZ\", \"BLIN\",\n",
    "               \"ACET\", \"AMRH\", \"FCEL\", \"TRNX\", \"WFT\", \"HOV\", \"TOPS\", \"RAD\", \"JAGX\", \"TRIL\", \"GSAT\",\n",
    "               \"GNMX\", \"TNK\",  \"PIR\", \"CTK\", \"QBAK\", \"CPSH\", \"SGMA\", \"INOD\", \"RBCN\", \"KOSS\", \"LPTH\",\n",
    "               \"QUIK\", \"AAOI\", \"ANY\", \"TRHC\", \"BSQR\", \"SMAR\", \"UXIN\", \"COUP\", \"JT\",  \"OSS\", \"SFUN\",\n",
    "               \"FARO\", \"XL\", \"UA\", \"UAA\", \"ALGN\", \"CMG\", \"M\", \"AMD\", \"TRIP\"\n",
    "]"
   ]
  },
  {
   "cell_type": "code",
   "execution_count": 16,
   "metadata": {},
   "outputs": [],
   "source": [
    "# ts = TimeSeries(key=APIkey, output_format='pandas')\n",
    "# data, meta_data = ts.get_daily(symbol='V', outputsize='full')\n",
    "# ndata = data.to_numpy()\n",
    "# perhaps clip the data off for today, and predict today? \n",
    "# print(data)"
   ]
  },
  {
   "cell_type": "code",
   "execution_count": 53,
   "metadata": {},
   "outputs": [],
   "source": [
    "def get_daily(stock):\n",
    "    ts = TimeSeries(key=APIkey, output_format='pandas')\n",
    "    data, meta_data = ts.get_daily(symbol=stock, outputsize='full')\n",
    "    return data, meta_data\n",
    "\n",
    "\n",
    "def fix_csv(path_to_csv):\n",
    "    df = pd.read_csv(path_to_csv)\n",
    "    # https://www.w3resource.com/python-exercises/pandas/python-pandas-data-frame-exercise-20.php\n",
    "    # https://stackoverflow.com/questions/41378813/python-loop-with-next-row-values\n",
    "    for row in df:\n",
    "        print(row)\n",
    "\n",
    "\n",
    "def open_csv(path_to_csv):\n",
    "    data = []\n",
    "    with open(path_to_csv) as csv_file:\n",
    "        csv_reader = csv.reader(csv_file, delimiter=',')\n",
    "        for row in csv_reader:\n",
    "            if row[0] != '':\n",
    "                data.append(row)\n",
    "    return data\n",
    "\n",
    "\n",
    "def five_per_minute():\n",
    "    # run 5 times\n",
    "    stock_data = []\n",
    "    for i in range(0, len(stock_names), 5):\n",
    "        if i < len(stock_names):\n",
    "            stock_data.append(get_daily(stock_names[i]))\n",
    "        if i+1 < len(stock_names):    \n",
    "            stock_data.append(get_daily(stock_names[i+1]))\n",
    "        if i+2 < len(stock_names):\n",
    "            stock_data.append(get_daily(stock_names[i+2]))\n",
    "        if i+3 < len(stock_names):\n",
    "            stock_data.append(get_daily(stock_names[i+3]))\n",
    "        if i+4 < len(stock_names):\n",
    "            stock_data.append(get_daily(stock_names[i+4]))\n",
    "        time.sleep(61)\n",
    "    return stock_data\n"
   ]
  },
  {
   "cell_type": "code",
   "execution_count": 38,
   "metadata": {},
   "outputs": [],
   "source": [
    "aapl_stock = open_csv(\"data/daily_AAPL.csv\")"
   ]
  },
  {
   "cell_type": "code",
   "execution_count": null,
   "metadata": {},
   "outputs": [],
   "source": []
  },
  {
   "cell_type": "code",
   "execution_count": 47,
   "metadata": {},
   "outputs": [
    {
     "name": "stdout",
     "output_type": "stream",
     "text": [
      "['timestamp', 'open', 'high', 'low', 'close', 'volume', 'change']\n"
     ]
    }
   ],
   "source": [
    "print(aapl_stock[0]) # header"
   ]
  },
  {
   "cell_type": "code",
   "execution_count": 48,
   "metadata": {},
   "outputs": [
    {
     "name": "stdout",
     "output_type": "stream",
     "text": [
      "['3/8/2019', '170.32', '173.07', '169.5', '172.91', '23983992', 'up']\n"
     ]
    }
   ],
   "source": [
    "print(aapl_stock[1]) # most recent data"
   ]
  },
  {
   "cell_type": "code",
   "execution_count": 51,
   "metadata": {},
   "outputs": [],
   "source": [
    "# this is to test the timer function with a smaller dataset\n",
    "stock_names = [\"AAPL\", \"ABT\", \"AFL\", \"AKAM\", \"AMZN\", \"BAC\", \"BIIB\", \"BLK\", \"CGC\", \"CMCSA\", \"COP\",\n",
    "               \"CSCO\", \"CVX\", \"D\", \"DIS\", \"DUK\"\n",
    "]"
   ]
  },
  {
   "cell_type": "code",
   "execution_count": 54,
   "metadata": {},
   "outputs": [],
   "source": [
    "stocks_data = five_per_minute()"
   ]
  },
  {
   "cell_type": "code",
   "execution_count": 67,
   "metadata": {},
   "outputs": [
    {
     "name": "stdout",
     "output_type": "stream",
     "text": [
      "988533.0\n"
     ]
    }
   ],
   "source": [
    "print(stocks_data[14][0].to_numpy()[0][4])  # accessing one piece of data"
   ]
  },
  {
   "cell_type": "code",
   "execution_count": 75,
   "metadata": {},
   "outputs": [
    {
     "name": "stdout",
     "output_type": "stream",
     "text": [
      "{'1. Information': 'Daily Prices (open, high, low, close) and Volumes', '2. Symbol': 'D', '3. Last Refreshed': '2019-04-01', '4. Output Size': 'Full size', '5. Time Zone': 'US/Eastern'}\n"
     ]
    }
   ],
   "source": [
    "print(stocks_data[13][0])  # prints the data of the stock\n",
    "print(stocks_data[13][1])  # prints the meta_data about the stock"
   ]
  },
  {
   "cell_type": "code",
   "execution_count": 81,
   "metadata": {},
   "outputs": [],
   "source": [
    "import tensorflow as tf\n",
    "\n",
    "# getting started with data -> dataset preparation\n",
    "# do not shuffle the data (time sensitive)\n",
    "# use dropout on internal layers\n",
    "# break up data into smaller chunks (500 days worth of data (out of 5000+ per stock)\n",
    "# ?? Should I make 5000 data sets with 500 days of data each? \n",
    "# ?? Or split the 5000 total into chunks of 500? \n",
    "# ???? Duplication of data?\n",
    "\n",
    "# no duplication. I can just load up another stock.\n",
    "# how big is mnist???\n",
    "# 70,000 x 784 = 54,880,000\n",
    "# My set has:\n",
    "# 10 x 500 x 7 (portions of data per stock) = 35,000... \n",
    "# so 1,568 stocks must be used to get a dataset as large as mnist...\n",
    "\n",
    "# but mnist uses binary representations of pictures, and that is the 784.\n",
    "# my dataset uses numbers, so maybe it's actually larger?\n",
    "# anyway it's 70,000 pictures with classifications (for training and testing)\n",
    "# so I should use 70,000 combinations of stock information \n",
    "#       (at least 784 unique data points in each dataset)\n",
    "#   with a classification for each one. (prediction of the next day)\n",
    "\n",
    "# How do I format data for tensorflow?\n"
   ]
  },
  {
   "cell_type": "code",
   "execution_count": null,
   "metadata": {},
   "outputs": [],
   "source": []
  }
 ],
 "metadata": {
  "kernelspec": {
   "display_name": "Python 2",
   "language": "python",
   "name": "python2"
  },
  "language_info": {
   "codemirror_mode": {
    "name": "ipython",
    "version": 2
   },
   "file_extension": ".py",
   "mimetype": "text/x-python",
   "name": "python",
   "nbconvert_exporter": "python",
   "pygments_lexer": "ipython2",
   "version": "2.7.6"
  }
 },
 "nbformat": 4,
 "nbformat_minor": 0
}
