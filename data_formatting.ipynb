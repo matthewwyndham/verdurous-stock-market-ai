{
  "cells": [
    {
      "cell_type": "code",
      "execution_count": 3,
      "metadata": {
        "collapsed": true,
        "pycharm": {
          "is_executing": false
        }
      },
      "outputs": [],
      "source": "from numpy import *\nimport pandas as pd\nimport time\nfrom myapikey import APIkey\nfrom alpha_vantage.timeseries import TimeSeries\nimport csv  \n# for jupyter notebook this is nice\n%matplotlib inline\n# I use a dark theme so I set it to white.\nimport matplotlib.pyplot as plt\nCOLOR \u003d \u0027white\u0027\nplt.rcParams[\u0027text.color\u0027] \u003d COLOR\nplt.rcParams[\u0027axes.labelcolor\u0027] \u003d COLOR\nplt.rcParams[\u0027xtick.color\u0027] \u003d COLOR\nplt.rcParams[\u0027ytick.color\u0027] \u003d COLOR\n\nfrom alpha_vantage.timeseries import TimeSeries\n"
    },
    {
      "cell_type": "code",
      "execution_count": 5,
      "metadata": {
        "pycharm": {
          "is_executing": false
        }
      },
      "outputs": [],
      "source": "stock_names \u003d [\"AAPL\", \"ABT\", \"AFL\", \"AKAM\", \"AMZN\",\"BAC\", \"BIIB\", \"BLK\", \"CGC\", \"CMCSA\", \"COP\",\n               \"CSCO\", \"CVX\", \"D\", \"DIS\", \"DUK\", \"EXC\", \"FB\", \"FDS\", \"GOOGL\", \"JNJ\", \"JPM\", \"LLY\",\n               \"MDT\", \"MSFT\", \"NDAQ\", \"NEE\", \"NFLX\",  \"NKE\", \"NRG\", \"NVDA\", \"PFE\", \"RL\", \"SBUX\",\n               \"SO\", \"STZ\", \"SYK\", \"T\", \"TSLA\", \"TSN\", \"TWTR\", \"UAA\", \"USB\", \"V\",  \"VRSN\", \"VZ\",\n               \"WFC\", \"WMT\", \"XOM\", \"ZTS\", \"VTVT\", \"AXSM\", \"ALQA\", \"ADIL\", \"BTAI\", \"EYES\", \"CLIR\",\n               \"OXBR\", \"CGA\", \"FRAN\",  \"VGZ\", \"QUIK\", \"AETI\", \"NVFY\", \"TOPS\", \"CTRV\", \"TWMC\", \"CPHI\",\n               \"FCEL\", \"IGLD\", \"AVGR\", \"BLRX\", \"HSGX\", \"UPL\", \"APVO\", \"FLKS\",  \"SESN\", \"MYSZ\", \"BLIN\",\n               \"ACET\", \"AMRH\", \"FCEL\", \"TRNX\", \"WFT\", \"HOV\", \"TOPS\", \"RAD\", \"JAGX\", \"TRIL\", \"GSAT\",\n               \"GNMX\", \"TNK\",  \"PIR\", \"CTK\", \"QBAK\", \"CPSH\", \"SGMA\", \"INOD\", \"RBCN\", \"KOSS\", \"LPTH\",\n               \"QUIK\", \"AAOI\", \"ANY\", \"TRHC\", \"BSQR\", \"SMAR\", \"UXIN\", \"COUP\", \"JT\",  \"OSS\", \"SFUN\",\n               \"FARO\", \"XL\", \"UA\", \"UAA\", \"ALGN\", \"CMG\", \"M\", \"AMD\", \"TRIP\"\n]"
    },
    {
      "cell_type": "code",
      "execution_count": 6,
      "metadata": {
        "pycharm": {
          "is_executing": false
        }
      },
      "outputs": [],
      "source": [
        "# ts \u003d TimeSeries(key\u003dAPIkey, output_format\u003d\u0027pandas\u0027)\n",
        "# data, meta_data \u003d ts.get_daily(symbol\u003d\u0027V\u0027, outputsize\u003d\u0027full\u0027)\n",
        "# ndata \u003d data.to_numpy()\n",
        "# perhaps clip the data off for today, and predict today? \n",
        "# print(data)"
      ]
    },
    {
      "cell_type": "code",
      "execution_count": 7,
      "metadata": {
        "pycharm": {
          "is_executing": false
        }
      },
      "outputs": [],
      "source": [
        "def get_daily(stock):\n",
        "    ts \u003d TimeSeries(key\u003dAPIkey, output_format\u003d\u0027pandas\u0027)\n",
        "    data, meta_data \u003d ts.get_daily(symbol\u003dstock, outputsize\u003d\u0027full\u0027)\n",
        "    return data, meta_data\n",
        "\n",
        "\n",
        "def fix_csv(path_to_csv):\n",
        "    df \u003d pd.read_csv(path_to_csv)\n",
        "    # https://www.w3resource.com/python-exercises/pandas/python-pandas-data-frame-exercise-20.php\n",
        "    # https://stackoverflow.com/questions/41378813/python-loop-with-next-row-values\n",
        "    for row in df:\n",
        "        print(row)\n",
        "\n",
        "\n",
        "def open_csv(path_to_csv):\n",
        "    data \u003d []\n",
        "    with open(path_to_csv) as csv_file:\n",
        "        csv_reader \u003d csv.reader(csv_file, delimiter\u003d\u0027,\u0027)\n",
        "        for row in csv_reader:\n",
        "            if row[0] !\u003d \u0027\u0027:\n",
        "                data.append(row)\n",
        "    return data\n",
        "\n",
        "\n",
        "def five_per_minute():\n",
        "    # run 5 times\n",
        "    stock_data \u003d []\n",
        "    for i in range(0, len(stock_names), 5):\n",
        "        if i \u003c len(stock_names):\n",
        "            stock_data.append(get_daily(stock_names[i]))\n",
        "        if i+1 \u003c len(stock_names):    \n",
        "            stock_data.append(get_daily(stock_names[i+1]))\n",
        "        if i+2 \u003c len(stock_names):\n",
        "            stock_data.append(get_daily(stock_names[i+2]))\n",
        "        if i+3 \u003c len(stock_names):\n",
        "            stock_data.append(get_daily(stock_names[i+3]))\n",
        "        if i+4 \u003c len(stock_names):\n",
        "            stock_data.append(get_daily(stock_names[i+4]))\n",
        "        time.sleep(61)\n",
        "    return stock_data\n"
      ]
    },
    {
      "cell_type": "code",
      "execution_count": 8,
      "metadata": {
        "pycharm": {
          "is_executing": false
        }
      },
      "outputs": [],
      "source": [
        "aapl_stock \u003d open_csv(\"data/daily_AAPL.csv\")"
      ]
    },
    {
      "cell_type": "code",
      "execution_count": 8,
      "metadata": {
        "pycharm": {
          "is_executing": false
        }
      },
      "outputs": [],
      "source": []
    },
    {
      "cell_type": "code",
      "execution_count": 9,
      "metadata": {
        "pycharm": {
          "is_executing": false
        }
      },
      "outputs": [
        {
          "name": "stdout",
          "text": [
            "[\u0027timestamp\u0027, \u0027open\u0027, \u0027high\u0027, \u0027low\u0027, \u0027close\u0027, \u0027volume\u0027, \u0027change\u0027]\n"
          ],
          "output_type": "stream"
        }
      ],
      "source": [
        "print(aapl_stock[0]) # header"
      ]
    },
    {
      "cell_type": "code",
      "execution_count": 13,
      "metadata": {
        "pycharm": {
          "is_executing": false
        }
      },
      "outputs": [
        {
          "name": "stdout",
          "text": [
            "[\u00273/8/2019\u0027, \u0027170.32\u0027, \u0027173.07\u0027, \u0027169.5\u0027, \u0027172.91\u0027, \u002723983992\u0027, \u0027up\u0027]\n"
          ],
          "output_type": "stream"
        }
      ],
      "source": "print(aapl_stock[1]) # most recent data"
    },
    {
      "cell_type": "code",
      "execution_count": 14,
      "metadata": {
        "pycharm": {
          "is_executing": false
        }
      },
      "outputs": [],
      "source": [
        "# this is to test the timer function with a smaller dataset\n",
        "stock_names \u003d [\"AAPL\", \"ABT\", \"AFL\", \"AKAM\", \"AMZN\", \"BAC\", \"BIIB\", \"BLK\", \"CGC\", \"CMCSA\", \"COP\",\n",
        "               \"CSCO\", \"CVX\", \"D\", \"DIS\", \"DUK\"\n",
        "]"
      ]
    },
    {
      "cell_type": "code",
      "execution_count": 15,
      "metadata": {
        "pycharm": {
          "is_executing": false
        }
      },
      "outputs": [],
      "source": [
        "stocks_data \u003d five_per_minute()"
      ]
    },
    {
      "cell_type": "code",
      "execution_count": 16,
      "metadata": {
        "pycharm": {
          "is_executing": false
        }
      },
      "outputs": [
        {
          "name": "stdout",
          "text": [
            "988533.0\n"
          ],
          "output_type": "stream"
        }
      ],
      "source": [
        "print(stocks_data[14][0].to_numpy()[0][4])  # accessing one piece of data"
      ]
    },
    {
      "cell_type": "code",
      "execution_count": 17,
      "metadata": {
        "pycharm": {
          "is_executing": false
        }
      },
      "outputs": [
        {
          "name": "stdout",
          "text": [
            "            1. open  2. high  3. low  4. close   5. volume\ndate                                                      \n1998-01-02    42.44  42.5000  42.130     42.25    290200.0\n1998-01-05    42.25  42.9400  41.690     41.88    595400.0\n1998-01-06    41.63  41.8800  41.380     41.56    663400.0\n1998-01-07    40.88  41.2500  40.880     41.19    494000.0\n1998-01-08    41.31  41.8800  41.190     41.81    485600.0\n1998-01-09    42.00  42.1300  40.500     40.50    916900.0\n1998-01-12    40.25  40.8800  40.130     40.81    549400.0\n1998-01-13    41.00  41.0000  40.250     40.31    245800.0\n1998-01-14    40.31  40.7500  39.940     40.75    382400.0\n1998-01-15    40.69  40.7500  40.630     40.63   1875800.0\n1998-01-16    40.75  40.8100  40.630     40.69    487600.0\n1998-01-20    40.63  40.7500  40.630     40.69    404400.0\n1998-01-21    40.63  40.8100  40.630     40.81    457300.0\n1998-01-22    40.63  40.6300  39.880     40.31    380900.0\n1998-01-23    40.19  40.4400  39.500     39.56    317800.0\n1998-01-26    39.63  40.1900  39.630     40.00    289200.0\n1998-01-27    39.94  40.0000  39.560     39.56    374100.0\n1998-01-28    39.44  39.7500  39.380     39.69    340300.0\n1998-01-29    39.56  40.2500  39.500     40.25    729800.0\n1998-01-30    40.00  40.6300  39.810     39.94    761000.0\n1998-02-02    40.00  40.1300  39.560     39.81    612900.0\n1998-02-03    39.69  39.9400  39.560     39.94    385300.0\n1998-02-04    39.88  40.2500  39.560     40.13    392400.0\n1998-02-05    40.25  40.3800  39.750     39.88    274000.0\n1998-02-06    40.38  40.5600  40.130     40.38    462800.0\n1998-02-09    40.31  40.4400  40.060     40.25    298300.0\n1998-02-10    40.38  40.7500  40.310     40.44    807600.0\n1998-02-11    40.63  40.6900  40.310     40.50    245700.0\n1998-02-12    40.38  40.5000  40.060     40.38    270200.0\n1998-02-13    40.13  40.3100  40.000     40.25    325500.0\n...             ...      ...     ...       ...         ...\n2019-02-21    73.35  74.4400  73.310     74.34   3966551.0\n2019-02-22    74.54  75.0500  74.070     75.05   3219113.0\n2019-02-25    75.11  75.2400  74.340     75.12   3751080.0\n2019-02-26    75.00  75.1100  73.320     73.89   4357327.0\n2019-02-27    73.74  74.4000  73.710     74.33   3596881.0\n2019-02-28    73.53  74.3200  73.300     74.09   6208758.0\n2019-03-01    74.13  74.8750  73.770     74.79   3917882.0\n2019-03-04    74.92  75.2700  74.130     75.27   4604186.0\n2019-03-05    75.27  75.9600  75.120     75.45   6087363.0\n2019-03-06    75.56  76.1000  75.250     75.83   4962976.0\n2019-03-07    76.11  76.4700  75.850     76.12   4242879.0\n2019-03-08    76.23  76.3500  75.140     75.73   3754533.0\n2019-03-11    75.62  76.4900  75.620     76.32   3727034.0\n2019-03-12    76.50  76.6700  76.040     76.33   4095186.0\n2019-03-13    76.35  76.5300  76.140     76.30   4801409.0\n2019-03-14    76.60  76.7400  76.065     76.64   5120645.0\n2019-03-15    76.44  77.2200  76.235     77.04  13411048.0\n2019-03-18    77.10  77.1600  76.270     76.61   3797612.0\n2019-03-19    76.67  76.7250  75.000     75.19   5730525.0\n2019-03-20    75.45  75.4500  74.770     74.94   4656004.0\n2019-03-21    75.11  75.4899  74.905     75.11   4049422.0\n2019-03-22    75.19  75.8900  75.050     75.52   5324247.0\n2019-03-25    75.72  76.0350  75.200     75.94   3770607.0\n2019-03-26    76.05  76.9300  75.790     76.88   2658279.0\n2019-03-27    76.72  76.9200  76.300     76.84   4460694.0\n2019-03-28    76.81  77.0500  75.590     75.67   4236348.0\n2019-03-29    75.51  76.7700  75.220     76.66   5008390.0\n2019-04-01    76.57  76.8400  75.770     76.69   3488837.0\n2019-04-02    76.80  77.0000  76.030     76.97   3934742.0\n2019-04-03    76.85  77.2650  76.240     76.96   3357938.0\n\n[5347 rows x 5 columns]\n{\u00271. Information\u0027: \u0027Daily Prices (open, high, low, close) and Volumes\u0027, \u00272. Symbol\u0027: \u0027D\u0027, \u00273. Last Refreshed\u0027: \u00272019-04-03\u0027, \u00274. Output Size\u0027: \u0027Full size\u0027, \u00275. Time Zone\u0027: \u0027US/Eastern\u0027}\n"
          ],
          "output_type": "stream"
        }
      ],
      "source": [
        "print(stocks_data[13][0])  # prints the data of the stock\n",
        "print(stocks_data[13][1])  # prints the meta_data about the stock"
      ]
    },
    {
      "cell_type": "code",
      "execution_count": 18,
      "metadata": {
        "pycharm": {
          "is_executing": false
        }
      },
      "outputs": [],
      "source": [
        "import tensorflow as tf\n",
        "\n",
        "# getting started with data -\u003e dataset preparation\n",
        "# do not shuffle the data (time sensitive)\n",
        "# use dropout on internal layers\n",
        "# break up data into smaller chunks (500 days worth of data (out of 5000+ per stock)\n",
        "# ?? Should I make 5000 data sets with 500 days of data each? \n",
        "# ?? Or split the 5000 total into chunks of 500? \n",
        "# ???? Duplication of data?\n",
        "\n",
        "# no duplication. I can just load up another stock.\n",
        "# how big is mnist???\n",
        "# 70,000 x 784 \u003d 54,880,000\n",
        "# My set has:\n",
        "# 10 x 500 x 7 (portions of data per stock) \u003d 35,000... \n",
        "# so 1,568 stocks must be used to get a dataset as large as mnist...\n",
        "\n",
        "# but mnist uses binary representations of pictures, and that is the 784.\n",
        "# my dataset uses numbers, so maybe it\u0027s actually larger?\n",
        "# anyway it\u0027s 70,000 pictures with classifications (for training and testing)\n",
        "# so I should use 70,000 combinations of stock information \n",
        "#       (at least 784 unique data points in each dataset)\n",
        "#   with a classification for each one. (prediction of the next day)\n",
        "\n",
        "# How do I format data for tensorflow?\n"
      ]
    },
    {
      "cell_type": "code",
      "execution_count": null,
      "metadata": {
        "pycharm": {}
      },
      "outputs": [],
      "source": []
    }
  ],
  "metadata": {
    "kernelspec": {
      "name": "python3",
      "language": "python",
      "display_name": "Python 3"
    },
    "language_info": {
      "codemirror_mode": {
        "name": "ipython",
        "version": 2
      },
      "file_extension": ".py",
      "mimetype": "text/x-python",
      "name": "python",
      "nbconvert_exporter": "python",
      "pygments_lexer": "ipython2",
      "version": "2.7.6"
    }
  },
  "nbformat": 4,
  "nbformat_minor": 0
}