{
 "cells": [
  {
   "cell_type": "code",
   "execution_count": 22,
   "metadata": {
    "collapsed": true
   },
   "outputs": [],
   "source": [
    "from numpy import *\n",
    "import pandas as pd\n",
    "import time\n",
    "from myapikey import APIkey\n",
    "from alpha_vantage.timeseries import TimeSeries\n",
    "import csv\n",
    "# for jupyter notebook this is nice\n",
    "%matplotlib inline\n",
    "# I use a dark theme so I set it to white.\n",
    "import matplotlib.pyplot as plt\n",
    "COLOR = 'white'\n",
    "plt.rcParams['text.color'] = COLOR\n",
    "plt.rcParams['axes.labelcolor'] = COLOR\n",
    "plt.rcParams['xtick.color'] = COLOR\n",
    "plt.rcParams['ytick.color'] = COLOR\n",
    "\n",
    "from alpha_vantage.timeseries import TimeSeries\n"
   ]
  },
  {
   "cell_type": "code",
   "execution_count": 23,
   "metadata": {},
   "outputs": [],
   "source": [
    "stock_names = [\"AAPL\", \"ABT\", \"AFL\", \"AKAM\", \"AMZN\",\"BAC\", \"BIIB\", \"BLK\", \"CGC\", \"CMCSA\", \"COP\",\n",
    "               \"CSCO\", \"CVX\", \"D\", \"DIS\", \"DUK\", \"EXC\", \"FB\", \"FDS\", \"GOOGL\", \"JNJ\", \"JPM\", \"LLY\",\n",
    "               \"MDT\", \"MSFT\", \"NDAQ\", \"NEE\", \"NFLX\",  \"NKE\", \"NRG\", \"NVDA\", \"PFE\", \"RL\", \"SBUX\",\n",
    "               \"SO\", \"STZ\", \"SYK\", \"T\", \"TSLA\", \"TSN\", \"TWTR\", \"UAA\", \"USB\", \"V\",  \"VRSN\", \"VZ\",\n",
    "               \"WFC\", \"WMT\", \"XOM\", \"ZTS\", \"VTVT\", \"AXSM\", \"ALQA\", \"ADIL\", \"BTAI\", \"EYES\", \"CLIR\",\n",
    "               \"OXBR\", \"CGA\", \"FRAN\",  \"VGZ\", \"QUIK\", \"AETI\", \"NVFY\", \"TOPS\", \"CTRV\", \"TWMC\", \"CPHI\",\n",
    "               \"FCEL\", \"IGLD\", \"AVGR\", \"BLRX\", \"HSGX\", \"UPL\", \"APVO\", \"FLKS\",  \"SESN\", \"MYSZ\", \"BLIN\",\n",
    "               \"ACET\", \"AMRH\", \"FCEL\", \"TRNX\", \"WFT\", \"HOV\", \"TOPS\", \"RAD\", \"JAGX\", \"TRIL\", \"GSAT\",\n",
    "               \"GNMX\", \"TNK\",  \"PIR\", \"CTK\", \"QBAK\", \"CPSH\", \"SGMA\", \"INOD\", \"RBCN\", \"KOSS\", \"LPTH\",\n",
    "               \"QUIK\", \"AAOI\", \"ANY\", \"TRHC\", \"BSQR\", \"SMAR\", \"UXIN\", \"COUP\", \"JT\",  \"OSS\", \"SFUN\",\n",
    "               \"FARO\", \"XL\", \"UA\", \"UAA\", \"ALGN\", \"CMG\", \"M\", \"AMD\", \"TRIP\"\n",
    "]"
   ]
  },
  {
   "cell_type": "code",
   "execution_count": 16,
   "metadata": {},
   "outputs": [],
   "source": [
    "# ts = TimeSeries(key=APIkey, output_format='pandas')\n",
    "# data, meta_data = ts.get_daily(symbol='V', outputsize='full')\n",
    "# ndata = data.to_numpy()\n",
    "# perhaps clip the data off for today, and predict today? \n",
    "# print(data)"
   ]
  },
  {
   "cell_type": "code",
   "execution_count": 28,
   "metadata": {},
   "outputs": [],
   "source": [
    "def get_daily(stock):\n",
    "    ts = TimeSeries(key=APIkey, output_format='pandas')\n",
    "    data, meta_data = ts.get_daily(symbol=stock, outputsize='full')\n",
    "    return data, meta_data\n",
    "\n",
    "\n",
    "def fix_csv(path_to_csv):\n",
    "    df = pd.read_csv(path_to_csv)\n",
    "    # https://www.w3resource.com/python-exercises/pandas/python-pandas-data-frame-exercise-20.php\n",
    "    # https://stackoverflow.com/questions/41378813/python-loop-with-next-row-values\n",
    "    for row in df:\n",
    "        print(row)\n",
    "\n",
    "\n",
    "def open_csv(path_to_csv):\n",
    "    with open(path_to_csv) as csv_file:\n",
    "        csv_reader = csv.reader(csv_file, delimiter=',')\n",
    "        for row in csv_reader:\n",
    "            if row[0] != '':\n",
    "                print(row)\n",
    "\n",
    "\n",
    "def five_per_minute():\n",
    "    # run 5 times\n",
    "    stock_data = []\n",
    "    for i in range(0, len(stock_names), 5):\n",
    "        stock_data.append(get_daily(stock_names[i]))\n",
    "        stock_data.append(get_daily(stock_names[i+1]))\n",
    "        stock_data.append(get_daily(stock_names[i+2]))\n",
    "        stock_data.append(get_daily(stock_names[i+3]))\n",
    "        stock_data.append(get_daily(stock_names[i+4]))\n",
    "        time.sleep(60)\n",
    "    return stock_data\n"
   ]
  },
  {
   "cell_type": "code",
   "execution_count": 29,
   "metadata": {},
   "outputs": [],
   "source": [
    "all_the_stock_info = five_per_minute()\n",
    "print(all_the_stock_info[0])"
   ]
  },
  {
   "cell_type": "code",
   "execution_count": 20,
   "metadata": {},
   "outputs": [],
   "source": [
    ""
   ]
  },
  {
   "cell_type": "code",
   "execution_count": 14,
   "metadata": {},
   "outputs": [],
   "source": [
    ""
   ]
  },
  {
   "cell_type": "code",
   "execution_count": 1,
   "metadata": {},
   "outputs": [],
   "source": [
    ""
   ]
  },
  {
   "cell_type": "code",
   "execution_count": null,
   "metadata": {},
   "outputs": [],
   "source": []
  }
 ],
 "metadata": {
  "kernelspec": {
   "display_name": "Python 2",
   "language": "python",
   "name": "python2"
  },
  "language_info": {
   "codemirror_mode": {
    "name": "ipython",
    "version": 2
   },
   "file_extension": ".py",
   "mimetype": "text/x-python",
   "name": "python",
   "nbconvert_exporter": "python",
   "pygments_lexer": "ipython2",
   "version": "2.7.6"
  }
 },
 "nbformat": 4,
 "nbformat_minor": 0
}
